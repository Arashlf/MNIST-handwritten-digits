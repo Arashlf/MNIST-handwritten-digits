{
  "nbformat": 4,
  "nbformat_minor": 0,
  "metadata": {
    "colab": {
      "provenance": []
    },
    "kernelspec": {
      "name": "python3",
      "display_name": "Python 3"
    },
    "language_info": {
      "name": "python"
    },
    "accelerator": "GPU",
    "gpuClass": "standard"
  },
  "cells": [
    {
      "cell_type": "markdown",
      "source": [
        "### Arash Latifi\n",
        "### Dec 2022"
      ],
      "metadata": {
        "id": "k3frBunXM05Z"
      }
    },
    {
      "cell_type": "code",
      "execution_count": 254,
      "metadata": {
        "id": "rcbu9kr2MxQO"
      },
      "outputs": [],
      "source": [
        "from keras.datasets import mnist\n",
        "from keras.utils import np_utils\n",
        "import matplotlib.pyplot as plt\n",
        "import numpy as np\n",
        "import pandas as pd\n",
        "from sklearn.preprocessing import OneHotEncoder\n",
        "import tensorflow as tf\n",
        "import tensorflow.keras.layers as tfl\n",
        "from tensorflow.keras.preprocessing import image"
      ]
    },
    {
      "cell_type": "markdown",
      "source": [
        "## Load the Data"
      ],
      "metadata": {
        "id": "ymcNhNGBV74x"
      }
    },
    {
      "cell_type": "code",
      "source": [
        "(train_X_orig, train_y_orig), (test_X_orig, test_y_orig) = mnist.load_data()"
      ],
      "metadata": {
        "id": "sgDsIymtNN8b"
      },
      "execution_count": 130,
      "outputs": []
    },
    {
      "cell_type": "markdown",
      "source": [
        "## Normalize Input"
      ],
      "metadata": {
        "id": "Nh2suM5cX463"
      }
    },
    {
      "cell_type": "code",
      "source": [
        "train_X = train_X_orig.reshape((train_X_orig.shape[0], 28, 28, 1)).astype('float32')\n",
        "train_X = train_X/255.\n",
        "test_X = test_X_orig.reshape((test_X_orig.shape[0], 28, 28, 1)).astype('float32')\n",
        "test_X = test_X/255.\n",
        "print (\"train_X shape: \" + str(train_X.shape))\n",
        "print (\"test_X shape: \" + str(test_X.shape))"
      ],
      "metadata": {
        "colab": {
          "base_uri": "https://localhost:8080/"
        },
        "id": "d7Xic4xVPTLu",
        "outputId": "0a9e8f34-38b4-4bb0-da48-36650e26d7c3"
      },
      "execution_count": 131,
      "outputs": [
        {
          "output_type": "stream",
          "name": "stdout",
          "text": [
            "train_X shape: (60000, 28, 28, 1)\n",
            "test_X shape: (10000, 28, 28, 1)\n"
          ]
        }
      ]
    },
    {
      "cell_type": "markdown",
      "source": [
        "## One Hot test data"
      ],
      "metadata": {
        "id": "UQogDBZZWM3H"
      }
    },
    {
      "cell_type": "code",
      "source": [
        "train_y = np_utils.to_categorical(train_y_orig)\n",
        "test_y = np_utils.to_categorical(test_y_orig)\n",
        "\n",
        "print (\"train_y shape: \" + str(train_y.shape))\n",
        "print (\"test_y shape: \" + str(test_y.shape))"
      ],
      "metadata": {
        "colab": {
          "base_uri": "https://localhost:8080/"
        },
        "id": "aiR6FhN6NwCQ",
        "outputId": "f2f790db-8d1e-4c37-d685-dc64e1592290"
      },
      "execution_count": 132,
      "outputs": [
        {
          "output_type": "stream",
          "name": "stdout",
          "text": [
            "train_y shape: (60000, 10)\n",
            "test_y shape: (10000, 10)\n"
          ]
        }
      ]
    },
    {
      "cell_type": "markdown",
      "source": [
        "## Convolutional Model"
      ],
      "metadata": {
        "id": "u1fVRyzZYyt8"
      }
    },
    {
      "cell_type": "code",
      "source": [
        "# GRADED FUNCTION: convolutional_model\n",
        "\n",
        "def convolutional_model(input_shape):\n",
        "    input_img = tf.keras.Input(shape=input_shape)\n",
        "\n",
        "    Z1 = tfl.Conv2D(10, 4, activation='relu')(input_img)\n",
        "    P1 = tfl.MaxPool2D()(Z1)\n",
        "\n",
        "    Z2 = tfl.Conv2D(20, 2, activation='relu')(P1)\n",
        "    P2 = tfl.MaxPool2D()(Z2)\n",
        "\n",
        "    Z3 = tfl.Conv2D(60, 2, activation='relu')(P2)\n",
        "    P3 = tfl.MaxPool2D()(Z3)\n",
        "\n",
        "    Z4 = tfl.Conv2D(100, 2, activation='relu')(P3)\n",
        "    D4 = tfl.Dropout(0.2)(Z4)\n",
        "\n",
        "    F = tfl.Flatten()(D4)\n",
        "    outputs = tfl.Dense(10, activation='softmax')(F)\n",
        "    \n",
        "    model = tf.keras.Model(inputs=input_img, outputs=outputs)\n",
        "    return model"
      ],
      "metadata": {
        "id": "1tKVgmt4X13a"
      },
      "execution_count": 133,
      "outputs": []
    },
    {
      "cell_type": "code",
      "source": [
        "conv_model = convolutional_model((28, 28, 1))\n",
        "conv_model.compile(optimizer='adam',\n",
        "                  loss='categorical_crossentropy',\n",
        "                  metrics=['accuracy'])\n",
        "conv_model.summary()"
      ],
      "metadata": {
        "colab": {
          "base_uri": "https://localhost:8080/"
        },
        "id": "BgS1SjC5ZL2Q",
        "outputId": "ec97d9fe-f478-407d-f2ae-e81d486178d3"
      },
      "execution_count": 134,
      "outputs": [
        {
          "output_type": "stream",
          "name": "stdout",
          "text": [
            "Model: \"model_13\"\n",
            "_________________________________________________________________\n",
            " Layer (type)                Output Shape              Param #   \n",
            "=================================================================\n",
            " input_14 (InputLayer)       [(None, 28, 28, 1)]       0         \n",
            "                                                                 \n",
            " conv2d_40 (Conv2D)          (None, 25, 25, 10)        170       \n",
            "                                                                 \n",
            " max_pooling2d_34 (MaxPoolin  (None, 12, 12, 10)       0         \n",
            " g2D)                                                            \n",
            "                                                                 \n",
            " conv2d_41 (Conv2D)          (None, 11, 11, 20)        820       \n",
            "                                                                 \n",
            " max_pooling2d_35 (MaxPoolin  (None, 5, 5, 20)         0         \n",
            " g2D)                                                            \n",
            "                                                                 \n",
            " conv2d_42 (Conv2D)          (None, 4, 4, 60)          4860      \n",
            "                                                                 \n",
            " max_pooling2d_36 (MaxPoolin  (None, 2, 2, 60)         0         \n",
            " g2D)                                                            \n",
            "                                                                 \n",
            " conv2d_43 (Conv2D)          (None, 1, 1, 100)         24100     \n",
            "                                                                 \n",
            " dropout_5 (Dropout)         (None, 1, 1, 100)         0         \n",
            "                                                                 \n",
            " flatten_13 (Flatten)        (None, 100)               0         \n",
            "                                                                 \n",
            " dense_13 (Dense)            (None, 10)                1010      \n",
            "                                                                 \n",
            "=================================================================\n",
            "Total params: 30,960\n",
            "Trainable params: 30,960\n",
            "Non-trainable params: 0\n",
            "_________________________________________________________________\n"
          ]
        }
      ]
    },
    {
      "cell_type": "markdown",
      "source": [
        "## Train the Model"
      ],
      "metadata": {
        "id": "Xdbn3yFDZwKl"
      }
    },
    {
      "cell_type": "code",
      "source": [
        "train_dataset = tf.data.Dataset.from_tensor_slices((train_X, train_y)).batch(256)\n",
        "test_dataset = tf.data.Dataset.from_tensor_slices((test_X, test_y)).batch(256)\n",
        "model = conv_model.fit(train_dataset, epochs=20, validation_data=test_dataset)"
      ],
      "metadata": {
        "id": "q2Y1OJGFZRcJ"
      },
      "execution_count": null,
      "outputs": []
    },
    {
      "cell_type": "code",
      "source": [
        "pd.options.mode.chained_assignment = None\n",
        "df_loss_acc = pd.DataFrame(model.history)\n",
        "df_loss= df_loss_acc[['loss', 'val_loss']]\n",
        "df_loss.rename(columns={'loss':'train', 'val_loss':'validation'}, inplace=True)\n",
        "df_acc= df_loss_acc[['accuracy', 'val_accuracy']]\n",
        "df_acc.rename(columns={'accuracy':'train', 'val_accuracy':'validation'}, inplace=True)"
      ],
      "metadata": {
        "id": "mG3ioQCjZ3i3"
      },
      "execution_count": 136,
      "outputs": []
    },
    {
      "cell_type": "code",
      "source": [
        "df_loss.plot(title='Model loss', figsize=(6,4), grid=True).set(xlabel='Epoch', ylabel='Loss')\n",
        "df_acc.plot(title='Model Accuracy', figsize=(6,4), grid=True).set(xlabel='Epoch', ylabel='Accuracy')"
      ],
      "metadata": {
        "colab": {
          "base_uri": "https://localhost:8080/",
          "height": 590
        },
        "id": "jRw9E5O7cfF3",
        "outputId": "bebdaa7f-d553-4d9c-f0c4-ce85902ee3ad"
      },
      "execution_count": 137,
      "outputs": [
        {
          "output_type": "execute_result",
          "data": {
            "text/plain": [
              "[Text(0, 0.5, 'Accuracy'), Text(0.5, 0, 'Epoch')]"
            ]
          },
          "metadata": {},
          "execution_count": 137
        },
        {
          "output_type": "display_data",
          "data": {
            "text/plain": [
              "<Figure size 432x288 with 1 Axes>"
            ],
            "image/png": "[encoded data removed]"
          },
          "metadata": {
            "needs_background": "light"
          }
        },
        {
          "output_type": "display_data",
          "data": {
            "text/plain": [
              "<Figure size 432x288 with 1 Axes>"
            ],
            "image/png": "[encoded data removed]"
          },
          "metadata": {
            "needs_background": "light"
          }
        }
      ]
    },
    {
      "cell_type": "markdown",
      "source": [
        "## Test set errors"
      ],
      "metadata": {
        "id": "m1l6dQFaGhBS"
      }
    },
    {
      "cell_type": "code",
      "source": [
        "# Predict the test values\n",
        "pred_y = conv_model.predict(test_X)\n",
        "# Convert predictions classes to one hot vectors \n",
        "pred_y_classes = np.argmax(pred_y, axis = 1)\n",
        "test_yy = np.argmax(test_y, axis=1)\n",
        "\n",
        "# Errors are difference between predicted labels and true labels\n",
        "errors = (pred_y_classes - test_yy != 0)\n",
        "\n",
        "pred_y_classes_errors = pred_y_classes[errors]\n",
        "pred_y_errors = pred_y[errors]\n",
        "true_y_errors = test_yy[errors]\n",
        "test_x_errors = test_X[errors]"
      ],
      "metadata": {
        "colab": {
          "base_uri": "https://localhost:8080/"
        },
        "outputId": "67f1f775-5597-4fb8-e762-cd310bae8818",
        "id": "6Iu3Den5Gf1X"
      },
      "execution_count": 138,
      "outputs": [
        {
          "output_type": "stream",
          "name": "stdout",
          "text": [
            "313/313 [==============================] - 1s 2ms/step\n"
          ]
        }
      ]
    },
    {
      "cell_type": "code",
      "source": [
        "def display_errors(num, img_errors, pred_errors, obs_errors):\n",
        "    rn = np.random.randint(test_error_num, size=num)\n",
        "    fig, ax = plt.subplots(1, 5, figsize=(15, 15))\n",
        "    for col in range(5):\n",
        "      ax[col].imshow(img_errors[rn[col]].reshape((28,28)), cmap=plt.get_cmap('gray'))\n",
        "      ax[col].set_title(\"Predicted label: {}\\nTrue label: {}\".format(pred_errors[rn[col]],obs_errors[rn[col]]))\n",
        "test_error_num = test_x_errors.shape[0]\n",
        "print(\"total_test_errors: \", test_error_num)\n",
        "display_errors(5, test_x_errors, pred_y_classes_errors, true_y_errors)"
      ],
      "metadata": {
        "colab": {
          "base_uri": "https://localhost:8080/",
          "height": 240
        },
        "outputId": "bc4f66a0-4415-4d98-d922-4900d7e0ec13",
        "id": "cK_o0aA7GbEL"
      },
      "execution_count": 144,
      "outputs": [
        {
          "output_type": "stream",
          "name": "stdout",
          "text": [
            "total_test_errors:  102\n"
          ]
        },
        {
          "output_type": "display_data",
          "data": {
            "text/plain": [
              "<Figure size 1080x1080 with 5 Axes>"
            ],
            "image/png": "[encoded data removed]"
          },
          "metadata": {
            "needs_background": "light"
          }
        }
      ]
    },
    {
      "cell_type": "markdown",
      "source": [
        "## Predict our samples"
      ],
      "metadata": {
        "id": "U1BezXVGawzH"
      }
    },
    {
      "cell_type": "code",
      "source": [
        "img = image.load_img('my.jpg', grayscale=True)\n",
        "img = image.img_to_array(img)\n",
        "pred = conv_model.predict(img[None,...])\n",
        "pred_classes = np.argmax(pred, axis = 1)"
      ],
      "metadata": {
        "colab": {
          "base_uri": "https://localhost:8080/"
        },
        "id": "bi4nko55bK8w",
        "outputId": "2e06bbcd-6fc6-4263-97af-6f8d405da06c"
      },
      "execution_count": 257,
      "outputs": [
        {
          "output_type": "stream",
          "name": "stdout",
          "text": [
            "1/1 [==============================] - 0s 19ms/step\n"
          ]
        }
      ]
    },
    {
      "cell_type": "code",
      "source": [
        "plt.imshow(img.reshape(28,28), cmap=plt.get_cmap('gray'))\n",
        "print(\"It's {}% a {}\".format(pred[0, pred_classes][0], pred_classes[0]))"
      ],
      "metadata": {
        "colab": {
          "base_uri": "https://localhost:8080/",
          "height": 282
        },
        "id": "Vob3EyNgeQLu",
        "outputId": "ea1d0b55-45bc-47ca-b200-648ab46fbd12"
      },
      "execution_count": 258,
      "outputs": [
        {
          "output_type": "stream",
          "name": "stdout",
          "text": [
            "It's 1.0% a 3\n"
          ]
        },
        {
          "output_type": "display_data",
          "data": {
            "text/plain": [
              "<Figure size 432x288 with 1 Axes>"
            ],
            "image/png": "[encoded data removed]"
          },
          "metadata": {
            "needs_background": "light"
          }
        }
      ]
    }
  ]
}