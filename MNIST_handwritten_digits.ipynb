{
  "nbformat": 4,
  "nbformat_minor": 0,
  "metadata": {
    "colab": {
      "provenance": []
    },
    "kernelspec": {
      "name": "python3",
      "display_name": "Python 3"
    },
    "language_info": {
      "name": "python"
    }
  },
  "cells": [
    {
      "cell_type": "markdown",
      "source": [
        "### Arash Latifi\n",
        "### Dec 2022"
      ],
      "metadata": {
        "id": "k3frBunXM05Z"
      }
    },
    {
      "cell_type": "code",
      "execution_count": 72,
      "metadata": {
        "id": "rcbu9kr2MxQO"
      },
      "outputs": [],
      "source": [
        "from keras.datasets import mnist\n",
        "from keras.utils import np_utils\n",
        "import matplotlib.pyplot as plt\n",
        "import numpy as np\n",
        "import pandas as pd\n",
        "from sklearn.preprocessing import OneHotEncoder\n",
        "import tensorflow as tf\n",
        "import tensorflow.keras.layers as tfl"
      ]
    },
    {
      "cell_type": "markdown",
      "source": [
        "## Load the Data"
      ],
      "metadata": {
        "id": "ymcNhNGBV74x"
      }
    },
    {
      "cell_type": "code",
      "source": [
        "(train_X_orig, train_y_orig), (test_X_orig, test_y_orig) = mnist.load_data()"
      ],
      "metadata": {
        "id": "sgDsIymtNN8b"
      },
      "execution_count": 42,
      "outputs": []
    },
    {
      "cell_type": "markdown",
      "source": [
        "## Normalize Input"
      ],
      "metadata": {
        "id": "Nh2suM5cX463"
      }
    },
    {
      "cell_type": "code",
      "source": [
        "train_X = train_X_orig.reshape((train_X_orig.shape[0], 28, 28, 1)).astype('float32')\n",
        "train_X = train_X/255.\n",
        "test_X = test_X_orig.reshape((test_X_orig.shape[0], 28, 28, 1)).astype('float32')\n",
        "test_X = test_X/255.\n",
        "print (\"train_X shape: \" + str(train_X.shape))\n",
        "print (\"test_X shape: \" + str(test_X.shape))"
      ],
      "metadata": {
        "colab": {
          "base_uri": "https://localhost:8080/"
        },
        "id": "d7Xic4xVPTLu",
        "outputId": "4d54b510-8481-44b5-b52a-809e1b9f6a2d"
      },
      "execution_count": 61,
      "outputs": [
        {
          "output_type": "stream",
          "name": "stdout",
          "text": [
            "train_X shape: (60000, 28, 28, 1)\n",
            "test_X shape: (10000, 28, 28, 1)\n"
          ]
        }
      ]
    },
    {
      "cell_type": "markdown",
      "source": [
        "## One Hot test data"
      ],
      "metadata": {
        "id": "UQogDBZZWM3H"
      }
    },
    {
      "cell_type": "code",
      "source": [
        "# train_y = np.zeros((train_y_orig.size, train_y_orig.max() + 1))\n",
        "# train_y[np.arange(train_y_orig.size), train_y_orig] = 1\n",
        "# test_y = np.zeros((test_y_orig.size, test_y_orig.max() + 1))\n",
        "# test_y[np.arange(test_y_orig.size), test_y_orig] = 1\n",
        "\n",
        "train_y = np_utils.to_categorical(train_y_orig)\n",
        "test_y = np_utils.to_categorical(test_y_orig)\n",
        "\n",
        "print (\"train_y shape: \" + str(train_y.shape))\n",
        "print (\"test_y shape: \" + str(test_y.shape))"
      ],
      "metadata": {
        "colab": {
          "base_uri": "https://localhost:8080/"
        },
        "id": "aiR6FhN6NwCQ",
        "outputId": "3465c389-51e0-4040-a946-783eee3ac32c"
      },
      "execution_count": 62,
      "outputs": [
        {
          "output_type": "stream",
          "name": "stdout",
          "text": [
            "train_y shape: (60000, 10)\n",
            "test_y shape: (10000, 10)\n"
          ]
        }
      ]
    },
    {
      "cell_type": "markdown",
      "source": [
        "## Convolutional Model"
      ],
      "metadata": {
        "id": "u1fVRyzZYyt8"
      }
    },
    {
      "cell_type": "code",
      "source": [
        "# GRADED FUNCTION: convolutional_model\n",
        "\n",
        "def convolutional_model(input_shape):\n",
        "    input_img = tf.keras.Input(shape=input_shape)\n",
        "\n",
        "    Z1 = tfl.Conv2D(10, 5, activation='linear')(input_img)\n",
        "    A1 = tfl.ReLU()(Z1)\n",
        "    P1 = tfl.MaxPool2D()(A1)\n",
        "\n",
        "    F = tfl.Flatten()(P1)\n",
        "    outputs = tfl.Dense(10, activation='softmax')(F)\n",
        "    \n",
        "    model = tf.keras.Model(inputs=input_img, outputs=outputs)\n",
        "    return model"
      ],
      "metadata": {
        "id": "1tKVgmt4X13a"
      },
      "execution_count": 92,
      "outputs": []
    },
    {
      "cell_type": "code",
      "source": [
        "conv_model = convolutional_model((28, 28, 1))\n",
        "conv_model.compile(optimizer='adam',\n",
        "                  loss='categorical_crossentropy',\n",
        "                  metrics=['accuracy'])\n",
        "conv_model.summary()"
      ],
      "metadata": {
        "colab": {
          "base_uri": "https://localhost:8080/"
        },
        "id": "BgS1SjC5ZL2Q",
        "outputId": "1e7f777f-c9b8-4b4b-9dfa-da0a2bcc0846"
      },
      "execution_count": 93,
      "outputs": [
        {
          "output_type": "stream",
          "name": "stdout",
          "text": [
            "Model: \"model_8\"\n",
            "_________________________________________________________________\n",
            " Layer (type)                Output Shape              Param #   \n",
            "=================================================================\n",
            " input_12 (InputLayer)       [(None, 28, 28, 1)]       0         \n",
            "                                                                 \n",
            " conv2d_16 (Conv2D)          (None, 24, 24, 10)        260       \n",
            "                                                                 \n",
            " re_lu_13 (ReLU)             (None, 24, 24, 10)        0         \n",
            "                                                                 \n",
            " max_pooling2d_13 (MaxPoolin  (None, 12, 12, 10)       0         \n",
            " g2D)                                                            \n",
            "                                                                 \n",
            " flatten_8 (Flatten)         (None, 1440)              0         \n",
            "                                                                 \n",
            " dense_8 (Dense)             (None, 10)                14410     \n",
            "                                                                 \n",
            "=================================================================\n",
            "Total params: 14,670\n",
            "Trainable params: 14,670\n",
            "Non-trainable params: 0\n",
            "_________________________________________________________________\n"
          ]
        }
      ]
    },
    {
      "cell_type": "markdown",
      "source": [
        "## Train the Model"
      ],
      "metadata": {
        "id": "Xdbn3yFDZwKl"
      }
    },
    {
      "cell_type": "code",
      "source": [
        "train_dataset = tf.data.Dataset.from_tensor_slices((train_X, train_y)).batch(256)\n",
        "test_dataset = tf.data.Dataset.from_tensor_slices((test_X, test_y)).batch(256)\n",
        "history = conv_model.fit(train_dataset, epochs=5, validation_data=test_dataset)"
      ],
      "metadata": {
        "colab": {
          "base_uri": "https://localhost:8080/"
        },
        "id": "q2Y1OJGFZRcJ",
        "outputId": "b4e4e26c-a899-496a-bdc9-35a4cb9d089a"
      },
      "execution_count": 94,
      "outputs": [
        {
          "output_type": "stream",
          "name": "stdout",
          "text": [
            "Epoch 1/5\n",
            "235/235 [==============================] - 13s 54ms/step - loss: 0.5898 - accuracy: 0.8473 - val_loss: 0.2819 - val_accuracy: 0.9191\n",
            "Epoch 2/5\n",
            "235/235 [==============================] - 12s 53ms/step - loss: 0.2609 - accuracy: 0.9258 - val_loss: 0.2074 - val_accuracy: 0.9408\n",
            "Epoch 3/5\n",
            "235/235 [==============================] - 13s 53ms/step - loss: 0.1953 - accuracy: 0.9454 - val_loss: 0.1559 - val_accuracy: 0.9546\n",
            "Epoch 4/5\n",
            "235/235 [==============================] - 12s 53ms/step - loss: 0.1519 - accuracy: 0.9574 - val_loss: 0.1234 - val_accuracy: 0.9646\n",
            "Epoch 5/5\n",
            "235/235 [==============================] - 13s 54ms/step - loss: 0.1238 - accuracy: 0.9661 - val_loss: 0.1029 - val_accuracy: 0.9695\n"
          ]
        }
      ]
    },
    {
      "cell_type": "code",
      "source": [
        "pd.options.mode.chained_assignment = None\n",
        "df_loss_acc = pd.DataFrame(history.history)\n",
        "df_loss= df_loss_acc[['loss', 'val_loss']]\n",
        "df_loss.rename(columns={'loss':'train', 'val_loss':'validation'}, inplace=True)\n",
        "df_acc= df_loss_acc[['accuracy', 'val_accuracy']]\n",
        "df_acc.rename(columns={'accuracy':'train', 'val_accuracy':'validation'}, inplace=True)"
      ],
      "metadata": {
        "id": "mG3ioQCjZ3i3"
      },
      "execution_count": 95,
      "outputs": []
    },
    {
      "cell_type": "code",
      "source": [
        "df_loss.plot(title='Model loss', figsize=(6,4), grid=True).set(xlabel='Epoch', ylabel='Loss')\n",
        "df_acc.plot(title='Model Accuracy', figsize=(6,4), grid=True).set(xlabel='Epoch', ylabel='Accuracy')"
      ],
      "metadata": {
        "colab": {
          "base_uri": "https://localhost:8080/",
          "height": 590
        },
        "id": "jRw9E5O7cfF3",
        "outputId": "13e8b3b0-6e53-431b-a772-06379fac8ab4"
      },
      "execution_count": 96,
      "outputs": [
        {
          "output_type": "execute_result",
          "data": {
            "text/plain": [
              "[Text(0, 0.5, 'Accuracy'), Text(0.5, 0, 'Epoch')]"
            ]
          },
          "metadata": {},
          "execution_count": 96
        },
        {
          "output_type": "display_data",
          "data": {
            "text/plain": [
              "<Figure size 432x288 with 1 Axes>"
            ],
            "image/png": "[encoded data removed]"
          },
          "metadata": {
            "needs_background": "light"
          }
        },
        {
          "output_type": "display_data",
          "data": {
            "text/plain": [
              "<Figure size 432x288 with 1 Axes>"
            ],
            "image/png": "[encoded data removed]"
          },
          "metadata": {
            "needs_background": "light"
          }
        }
      ]
    }
  ]
}