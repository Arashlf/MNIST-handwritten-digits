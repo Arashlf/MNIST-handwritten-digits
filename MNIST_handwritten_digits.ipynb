{
  "nbformat": 4,
  "nbformat_minor": 0,
  "metadata": {
    "colab": {
      "provenance": []
    },
    "kernelspec": {
      "name": "python3",
      "display_name": "Python 3"
    },
    "language_info": {
      "name": "python"
    },
    "accelerator": "GPU",
    "gpuClass": "standard"
  },
  "cells": [
    {
      "cell_type": "markdown",
      "source": [
        "### Arash Latifi\n",
        "### Dec 2022"
      ],
      "metadata": {
        "id": "k3frBunXM05Z"
      }
    },
    {
      "cell_type": "code",
      "execution_count": 1,
      "metadata": {
        "id": "rcbu9kr2MxQO"
      },
      "outputs": [],
      "source": [
        "from keras.datasets import mnist\n",
        "from keras.utils import np_utils\n",
        "import matplotlib.pyplot as plt\n",
        "import numpy as np\n",
        "import pandas as pd\n",
        "from sklearn.preprocessing import OneHotEncoder\n",
        "import tensorflow as tf\n",
        "import tensorflow.keras.layers as tfl"
      ]
    },
    {
      "cell_type": "markdown",
      "source": [
        "## Load the Data"
      ],
      "metadata": {
        "id": "ymcNhNGBV74x"
      }
    },
    {
      "cell_type": "code",
      "source": [
        "(train_X_orig, train_y_orig), (test_X_orig, test_y_orig) = mnist.load_data()"
      ],
      "metadata": {
        "colab": {
          "base_uri": "https://localhost:8080/"
        },
        "id": "sgDsIymtNN8b",
        "outputId": "1501afd6-aa52-4a44-dd15-b8a8bd3ad667"
      },
      "execution_count": 2,
      "outputs": [
        {
          "output_type": "stream",
          "name": "stdout",
          "text": [
            "Downloading data from https://storage.googleapis.com/tensorflow/tf-keras-datasets/mnist.npz\n",
            "11490434/11490434 [==============================] - 1s 0us/step\n"
          ]
        }
      ]
    },
    {
      "cell_type": "markdown",
      "source": [
        "## Normalize Input"
      ],
      "metadata": {
        "id": "Nh2suM5cX463"
      }
    },
    {
      "cell_type": "code",
      "source": [
        "train_X = train_X_orig.reshape((train_X_orig.shape[0], 28, 28, 1)).astype('float32')\n",
        "train_X = train_X/255.\n",
        "test_X = test_X_orig.reshape((test_X_orig.shape[0], 28, 28, 1)).astype('float32')\n",
        "test_X = test_X/255.\n",
        "print (\"train_X shape: \" + str(train_X.shape))\n",
        "print (\"test_X shape: \" + str(test_X.shape))"
      ],
      "metadata": {
        "colab": {
          "base_uri": "https://localhost:8080/"
        },
        "id": "d7Xic4xVPTLu",
        "outputId": "a4f6c5c0-b038-452c-d62f-0b33a45d2d9b"
      },
      "execution_count": 3,
      "outputs": [
        {
          "output_type": "stream",
          "name": "stdout",
          "text": [
            "train_X shape: (60000, 28, 28, 1)\n",
            "test_X shape: (10000, 28, 28, 1)\n"
          ]
        }
      ]
    },
    {
      "cell_type": "markdown",
      "source": [
        "## One Hot test data"
      ],
      "metadata": {
        "id": "UQogDBZZWM3H"
      }
    },
    {
      "cell_type": "code",
      "source": [
        "train_y = np_utils.to_categorical(train_y_orig)\n",
        "test_y = np_utils.to_categorical(test_y_orig)\n",
        "\n",
        "print (\"train_y shape: \" + str(train_y.shape))\n",
        "print (\"test_y shape: \" + str(test_y.shape))"
      ],
      "metadata": {
        "colab": {
          "base_uri": "https://localhost:8080/"
        },
        "id": "aiR6FhN6NwCQ",
        "outputId": "9cfa1107-1701-4f15-afe4-3dca3d7619b6"
      },
      "execution_count": 4,
      "outputs": [
        {
          "output_type": "stream",
          "name": "stdout",
          "text": [
            "train_y shape: (60000, 10)\n",
            "test_y shape: (10000, 10)\n"
          ]
        }
      ]
    },
    {
      "cell_type": "markdown",
      "source": [
        "## Convolutional Model"
      ],
      "metadata": {
        "id": "u1fVRyzZYyt8"
      }
    },
    {
      "cell_type": "code",
      "source": [
        "# GRADED FUNCTION: convolutional_model\n",
        "\n",
        "def convolutional_model(input_shape):\n",
        "    input_img = tf.keras.Input(shape=input_shape)\n",
        "\n",
        "    Z1 = tfl.Conv2D(10, 4, activation='relu')(input_img)\n",
        "    P1 = tfl.MaxPool2D()(Z1)\n",
        "\n",
        "    Z2 = tfl.Conv2D(20, 2, activation='relu')(P1)\n",
        "    P2 = tfl.MaxPool2D()(Z2)\n",
        "    # D2 = tfl.Dropout(0.05)(P2)\n",
        "\n",
        "    F = tfl.Flatten()(P2)\n",
        "    outputs = tfl.Dense(10, activation='softmax')(F)\n",
        "    \n",
        "    model = tf.keras.Model(inputs=input_img, outputs=outputs)\n",
        "    return model"
      ],
      "metadata": {
        "id": "1tKVgmt4X13a"
      },
      "execution_count": 5,
      "outputs": []
    },
    {
      "cell_type": "code",
      "source": [
        "conv_model = convolutional_model((28, 28, 1))\n",
        "conv_model.compile(optimizer='adam',\n",
        "                  loss='categorical_crossentropy',\n",
        "                  metrics=['accuracy'])\n",
        "conv_model.summary()"
      ],
      "metadata": {
        "colab": {
          "base_uri": "https://localhost:8080/"
        },
        "id": "BgS1SjC5ZL2Q",
        "outputId": "7f4691d5-2a0c-4c33-a261-135c7af7937e"
      },
      "execution_count": 6,
      "outputs": [
        {
          "output_type": "stream",
          "name": "stdout",
          "text": [
            "Model: \"model\"\n",
            "_________________________________________________________________\n",
            " Layer (type)                Output Shape              Param #   \n",
            "=================================================================\n",
            " input_1 (InputLayer)        [(None, 28, 28, 1)]       0         \n",
            "                                                                 \n",
            " conv2d (Conv2D)             (None, 25, 25, 10)        170       \n",
            "                                                                 \n",
            " max_pooling2d (MaxPooling2D  (None, 12, 12, 10)       0         \n",
            " )                                                               \n",
            "                                                                 \n",
            " conv2d_1 (Conv2D)           (None, 11, 11, 20)        820       \n",
            "                                                                 \n",
            " max_pooling2d_1 (MaxPooling  (None, 5, 5, 20)         0         \n",
            " 2D)                                                             \n",
            "                                                                 \n",
            " flatten (Flatten)           (None, 500)               0         \n",
            "                                                                 \n",
            " dense (Dense)               (None, 10)                5010      \n",
            "                                                                 \n",
            "=================================================================\n",
            "Total params: 6,000\n",
            "Trainable params: 6,000\n",
            "Non-trainable params: 0\n",
            "_________________________________________________________________\n"
          ]
        }
      ]
    },
    {
      "cell_type": "markdown",
      "source": [
        "## Train the Model"
      ],
      "metadata": {
        "id": "Xdbn3yFDZwKl"
      }
    },
    {
      "cell_type": "code",
      "source": [
        "train_dataset = tf.data.Dataset.from_tensor_slices((train_X, train_y)).batch(256)\n",
        "test_dataset = tf.data.Dataset.from_tensor_slices((test_X, test_y)).batch(256)\n",
        "history = conv_model.fit(train_dataset, epochs=10, validation_data=test_dataset)"
      ],
      "metadata": {
        "colab": {
          "base_uri": "https://localhost:8080/"
        },
        "id": "q2Y1OJGFZRcJ",
        "outputId": "fbaa0055-3b1f-408f-f7eb-07aeacae9ddd"
      },
      "execution_count": 7,
      "outputs": [
        {
          "output_type": "stream",
          "name": "stdout",
          "text": [
            "Epoch 1/10\n",
            "235/235 [==============================] - 9s 7ms/step - loss: 0.7223 - accuracy: 0.8024 - val_loss: 0.2353 - val_accuracy: 0.9327\n",
            "Epoch 2/10\n",
            "235/235 [==============================] - 1s 6ms/step - loss: 0.1926 - accuracy: 0.9433 - val_loss: 0.1321 - val_accuracy: 0.9617\n",
            "Epoch 3/10\n",
            "235/235 [==============================] - 1s 6ms/step - loss: 0.1296 - accuracy: 0.9618 - val_loss: 0.1000 - val_accuracy: 0.9704\n",
            "Epoch 4/10\n",
            "235/235 [==============================] - 1s 5ms/step - loss: 0.1041 - accuracy: 0.9693 - val_loss: 0.0853 - val_accuracy: 0.9740\n",
            "Epoch 5/10\n",
            "235/235 [==============================] - 1s 5ms/step - loss: 0.0898 - accuracy: 0.9731 - val_loss: 0.0768 - val_accuracy: 0.9769\n",
            "Epoch 6/10\n",
            "235/235 [==============================] - 1s 5ms/step - loss: 0.0805 - accuracy: 0.9758 - val_loss: 0.0708 - val_accuracy: 0.9787\n",
            "Epoch 7/10\n",
            "235/235 [==============================] - 1s 5ms/step - loss: 0.0737 - accuracy: 0.9777 - val_loss: 0.0662 - val_accuracy: 0.9794\n",
            "Epoch 8/10\n",
            "235/235 [==============================] - 1s 5ms/step - loss: 0.0684 - accuracy: 0.9793 - val_loss: 0.0626 - val_accuracy: 0.9800\n",
            "Epoch 9/10\n",
            "235/235 [==============================] - 1s 6ms/step - loss: 0.0642 - accuracy: 0.9805 - val_loss: 0.0598 - val_accuracy: 0.9810\n",
            "Epoch 10/10\n",
            "235/235 [==============================] - 1s 5ms/step - loss: 0.0608 - accuracy: 0.9818 - val_loss: 0.0575 - val_accuracy: 0.9813\n"
          ]
        }
      ]
    },
    {
      "cell_type": "code",
      "source": [
        "pd.options.mode.chained_assignment = None\n",
        "df_loss_acc = pd.DataFrame(history.history)\n",
        "df_loss= df_loss_acc[['loss', 'val_loss']]\n",
        "df_loss.rename(columns={'loss':'train', 'val_loss':'validation'}, inplace=True)\n",
        "df_acc= df_loss_acc[['accuracy', 'val_accuracy']]\n",
        "df_acc.rename(columns={'accuracy':'train', 'val_accuracy':'validation'}, inplace=True)"
      ],
      "metadata": {
        "id": "mG3ioQCjZ3i3"
      },
      "execution_count": 8,
      "outputs": []
    },
    {
      "cell_type": "code",
      "source": [
        "df_loss.plot(title='Model loss', figsize=(6,4), grid=True).set(xlabel='Epoch', ylabel='Loss')\n",
        "df_acc.plot(title='Model Accuracy', figsize=(6,4), grid=True).set(xlabel='Epoch', ylabel='Accuracy')"
      ],
      "metadata": {
        "colab": {
          "base_uri": "https://localhost:8080/",
          "height": 590
        },
        "id": "jRw9E5O7cfF3",
        "outputId": "54b49df7-7b81-4099-a064-cbdf580e5f68"
      },
      "execution_count": 9,
      "outputs": [
        {
          "output_type": "execute_result",
          "data": {
            "text/plain": [
              "[Text(0, 0.5, 'Accuracy'), Text(0.5, 0, 'Epoch')]"
            ]
          },
          "metadata": {},
          "execution_count": 9
        },
        {
          "output_type": "display_data",
          "data": {
            "text/plain": [
              "<Figure size 432x288 with 1 Axes>"
            ],
            "image/png": "[encoded data removed]"
          },
          "metadata": {
            "needs_background": "light"
          }
        },
        {
          "output_type": "display_data",
          "data": {
            "text/plain": [
              "<Figure size 432x288 with 1 Axes>"
            ],
            "image/png": "[encoded data removed]"
          },
          "metadata": {
            "needs_background": "light"
          }
        }
      ]
    }
  ]
}